{
 "cells": [
  {
   "cell_type": "code",
   "execution_count": 74,
   "metadata": {},
   "outputs": [
    {
     "data": {
      "text/html": [
       "<div>\n",
       "<style scoped>\n",
       "    .dataframe tbody tr th:only-of-type {\n",
       "        vertical-align: middle;\n",
       "    }\n",
       "\n",
       "    .dataframe tbody tr th {\n",
       "        vertical-align: top;\n",
       "    }\n",
       "\n",
       "    .dataframe thead th {\n",
       "        text-align: right;\n",
       "    }\n",
       "</style>\n",
       "<table border=\"1\" class=\"dataframe\">\n",
       "  <thead>\n",
       "    <tr style=\"text-align: right;\">\n",
       "      <th></th>\n",
       "      <th>Color</th>\n",
       "      <th>Flower</th>\n",
       "      <th>Meaning</th>\n",
       "    </tr>\n",
       "  </thead>\n",
       "  <tbody>\n",
       "    <tr>\n",
       "      <th>0</th>\n",
       "      <td>NaN</td>\n",
       "      <td>Abatina</td>\n",
       "      <td>Fickleness</td>\n",
       "    </tr>\n",
       "    <tr>\n",
       "      <th>1</th>\n",
       "      <td>NaN</td>\n",
       "      <td>Acanthus</td>\n",
       "      <td>The fine art, artifice</td>\n",
       "    </tr>\n",
       "    <tr>\n",
       "      <th>2</th>\n",
       "      <td>NaN</td>\n",
       "      <td>Aloe</td>\n",
       "      <td>Affection, also grief</td>\n",
       "    </tr>\n",
       "    <tr>\n",
       "      <th>3</th>\n",
       "      <td>NaN</td>\n",
       "      <td>Amaryllis</td>\n",
       "      <td>Pride</td>\n",
       "    </tr>\n",
       "    <tr>\n",
       "      <th>4</th>\n",
       "      <td>NaN</td>\n",
       "      <td>Anemone</td>\n",
       "      <td>Forsaken, sickness</td>\n",
       "    </tr>\n",
       "    <tr>\n",
       "      <th>...</th>\n",
       "      <td>...</td>\n",
       "      <td>...</td>\n",
       "      <td>...</td>\n",
       "    </tr>\n",
       "    <tr>\n",
       "      <th>124</th>\n",
       "      <td>NaN</td>\n",
       "      <td>Violet</td>\n",
       "      <td>Loyalty, devotion, faithfulness, modesty</td>\n",
       "    </tr>\n",
       "    <tr>\n",
       "      <th>125</th>\n",
       "      <td>NaN</td>\n",
       "      <td>Wallflower</td>\n",
       "      <td>Faithfulness in adversity</td>\n",
       "    </tr>\n",
       "    <tr>\n",
       "      <th>126</th>\n",
       "      <td>NaN</td>\n",
       "      <td>Willow</td>\n",
       "      <td>Sadness</td>\n",
       "    </tr>\n",
       "    <tr>\n",
       "      <th>127</th>\n",
       "      <td>NaN</td>\n",
       "      <td>Yarrow</td>\n",
       "      <td>Everlasting love</td>\n",
       "    </tr>\n",
       "    <tr>\n",
       "      <th>128</th>\n",
       "      <td>NaN</td>\n",
       "      <td>Zinnia</td>\n",
       "      <td>Thoughts of absent friends</td>\n",
       "    </tr>\n",
       "  </tbody>\n",
       "</table>\n",
       "<p>129 rows × 3 columns</p>\n",
       "</div>"
      ],
      "text/plain": [
       "    Color      Flower                                   Meaning\n",
       "0     NaN     Abatina                                Fickleness\n",
       "1     NaN    Acanthus                    The fine art, artifice\n",
       "2     NaN        Aloe                     Affection, also grief\n",
       "3     NaN   Amaryllis                                     Pride\n",
       "4     NaN     Anemone                        Forsaken, sickness\n",
       "..    ...         ...                                       ...\n",
       "124   NaN      Violet  Loyalty, devotion, faithfulness, modesty\n",
       "125   NaN  Wallflower                 Faithfulness in adversity\n",
       "126   NaN      Willow                                   Sadness\n",
       "127   NaN      Yarrow                          Everlasting love\n",
       "128   NaN      Zinnia                Thoughts of absent friends\n",
       "\n",
       "[129 rows x 3 columns]"
      ]
     },
     "execution_count": 74,
     "metadata": {},
     "output_type": "execute_result"
    }
   ],
   "source": [
    "flowers=pd.read_csv(\"https://raw.githubusercontent.com/halfcastle/flowerz/main/language-of-flowers.csv\")\n",
    "flowers"
   ]
  },
  {
   "cell_type": "code",
   "execution_count": 75,
   "metadata": {},
   "outputs": [],
   "source": [
    "def single_word(row):\n",
    "    for a in str(row):\n",
    "        if (a.isspace()) == True:\n",
    "            return True"
   ]
  },
  {
   "cell_type": "code",
   "execution_count": 76,
   "metadata": {},
   "outputs": [
    {
     "data": {
      "text/plain": [
       "0        Fickleness\n",
       "3             Pride\n",
       "5       Inspiration\n",
       "6        Preference\n",
       "11            Glory\n",
       "13          Silence\n",
       "14            Truth\n",
       "15          Justice\n",
       "22     Indifference\n",
       "27          Refusal\n",
       "30       Usefulness\n",
       "33            Truth\n",
       "35          Poverty\n",
       "38       Resolution\n",
       "50         Flattery\n",
       "55      Remembrance\n",
       "59        Foresight\n",
       "60         Ambition\n",
       "63        Constancy\n",
       "64           Sorrow\n",
       "65         Jealousy\n",
       "76         Sympathy\n",
       "78           Beauty\n",
       "85           Virtue\n",
       "86        Affection\n",
       "88       Patriotism\n",
       "89         Strength\n",
       "90        Substance\n",
       "91         Thoughts\n",
       "92        Festivity\n",
       "94         Humility\n",
       "95      Consolation\n",
       "98         Mourning\n",
       "99        Happiness\n",
       "102     Remembrance\n",
       "109       Affection\n",
       "113       Adoration\n",
       "114     Haughtiness\n",
       "116       Gallantry\n",
       "117        Humility\n",
       "123       Readiness\n",
       "126         Sadness\n",
       "Name: Meaning, dtype: object"
      ]
     },
     "execution_count": 76,
     "metadata": {},
     "output_type": "execute_result"
    }
   ],
   "source": [
    "judge=list(flowers['Meaning'].apply(single_word))\n",
    "mult=[i for i, x in enumerate(judge) if x==None]\n",
    "single=flowers['Meaning'].iloc[mult]\n",
    "single"
   ]
  },
  {
   "cell_type": "code",
   "execution_count": 77,
   "metadata": {
    "scrolled": true
   },
   "outputs": [
    {
     "name": "stderr",
     "output_type": "stream",
     "text": [
      "[nltk_data] Downloading package wordnet to\n",
      "[nltk_data]     C:\\Users\\Kelly\\AppData\\Roaming\\nltk_data...\n",
      "[nltk_data]   Package wordnet is already up-to-date!\n"
     ]
    }
   ],
   "source": [
    "import nltk\n",
    "#nltk.download('wordnet')\n",
    "from nltk.corpus import wordnet   #Import wordnet from the NLTK"
   ]
  },
  {
   "cell_type": "code",
   "execution_count": 78,
   "metadata": {},
   "outputs": [],
   "source": [
    "def get_syn(word):\n",
    "    syn = list()\n",
    "    for synset in wordnet.synsets(str(word)):\n",
    "        for lemma in synset.lemmas():\n",
    "            syn.append(lemma.name())    #add the synonyms\n",
    "        return set(syn)"
   ]
  },
  {
   "cell_type": "code",
   "execution_count": 87,
   "metadata": {},
   "outputs": [
    {
     "name": "stdout",
     "output_type": "stream",
     "text": [
      "{'establish', 'lay_down', 'make'}\n"
     ]
    }
   ],
   "source": [
    "syn = list()\n",
    "for synset in wordnet.synsets(\"lay_down\"):\n",
    "    for lemma in synset.lemmas():\n",
    "        syn.append(lemma.name())    #add the synonyms\n",
    "    print(set(syn))"
   ]
  },
  {
   "cell_type": "code",
   "execution_count": 79,
   "metadata": {},
   "outputs": [
    {
     "data": {
      "text/plain": [
       "0      {fickleness, faithlessness, falseness, inconst...\n",
       "3                                  {pride, pridefulness}\n",
       "5                                          {inspiration}\n",
       "6            {predilection, taste, preference, penchant}\n",
       "11                                {glory, glorification}\n",
       "13                                             {silence}\n",
       "14                                               {truth}\n",
       "15                                   {justness, justice}\n",
       "22                                        {indifference}\n",
       "27                                             {refusal}\n",
       "30                                 {utility, usefulness}\n",
       "33                                               {truth}\n",
       "35                   {poorness, impoverishment, poverty}\n",
       "38                    {resolution, resolve, declaration}\n",
       "50                                            {flattery}\n",
       "55                {remembrance, recollection, anamnesis}\n",
       "59        {foresightedness, foresight, foresightfulness}\n",
       "60                         {aspiration, ambition, dream}\n",
       "63                                {constancy, stability}\n",
       "64                                              {sorrow}\n",
       "65                        {green-eyed_monster, jealousy}\n",
       "76                             {sympathy, understanding}\n",
       "78                                              {beauty}\n",
       "85              {virtuousness, virtue, moral_excellence}\n",
       "86     {warmness, tenderness, affection, philia, hear...\n",
       "88                             {nationalism, patriotism}\n",
       "89                                            {strength}\n",
       "90                                           {substance}\n",
       "91                                       {idea, thought}\n",
       "92                              {festivity, celebration}\n",
       "94                                {humbleness, humility}\n",
       "95                     {consolation, solace, solacement}\n",
       "98                               {mourning, bereavement}\n",
       "99                                 {happiness, felicity}\n",
       "102               {remembrance, recollection, anamnesis}\n",
       "109    {warmness, tenderness, affection, philia, hear...\n",
       "113                                 {adoration, worship}\n",
       "114    {arrogance, high-handedness, hauteur, haughtin...\n",
       "116    {valorousness, valiance, valour, heroism, valo...\n",
       "117                               {humbleness, humility}\n",
       "123               {preparedness, readiness, preparation}\n",
       "126                               {sadness, unhappiness}\n",
       "Name: Meaning, dtype: object"
      ]
     },
     "execution_count": 79,
     "metadata": {},
     "output_type": "execute_result"
    }
   ],
   "source": [
    "single.apply(get_syn)"
   ]
  }
 ],
 "metadata": {
  "kernelspec": {
   "display_name": "Python 3",
   "language": "python",
   "name": "python3"
  },
  "language_info": {
   "codemirror_mode": {
    "name": "ipython",
    "version": 3
   },
   "file_extension": ".py",
   "mimetype": "text/x-python",
   "name": "python",
   "nbconvert_exporter": "python",
   "pygments_lexer": "ipython3",
   "version": "3.8.5"
  }
 },
 "nbformat": 4,
 "nbformat_minor": 4
}
